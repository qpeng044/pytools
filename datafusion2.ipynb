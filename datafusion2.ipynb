{
 "cells": [
  {
   "cell_type": "code",
   "execution_count": 1,
   "metadata": {},
   "outputs": [],
   "source": [
    "from sympy import *"
   ]
  },
  {
   "cell_type": "code",
   "execution_count": 2,
   "metadata": {},
   "outputs": [],
   "source": [
    "xk,yk,thetak,xk1,yk1,thetak1,vk1,ts,wk1 = symbols('x_k y_k theta_k x_k-1 y_k-1 theta_k-1 v_k-1 T_s w_k-1')"
   ]
  },
  {
   "cell_type": "code",
   "execution_count": 3,
   "metadata": {},
   "outputs": [],
   "source": [
    "Xk=Matrix([xk,yk,thetak])\n",
    "Xk1=Matrix([xk1,yk1,thetak1])\n",
    "UK=Matrix([vk1*ts*cos(thetak1+0.5*ts*wk1),vk1*ts*sin(thetak1+0.5*ts*wk1),ts*wk1])"
   ]
  },
  {
   "cell_type": "code",
   "execution_count": 4,
   "metadata": {},
   "outputs": [
    {
     "data": {
      "text/latex": [
       "$\\displaystyle T_{s} v_{k-1} \\cos{\\left(0.5 T_{s} w_{k-1} + \\theta_{k-1} \\right)} + x_{k-1}$"
      ],
      "text/plain": [
       "T_s*v_k-1*cos(0.5*T_s*w_k-1 + theta_k-1) + x_k-1"
      ]
     },
     "execution_count": 4,
     "metadata": {},
     "output_type": "execute_result"
    }
   ],
   "source": [
    "Fx=Xk1+UK\n",
    "Fx[0]"
   ]
  },
  {
   "cell_type": "code",
   "execution_count": 5,
   "metadata": {},
   "outputs": [
    {
     "data": {
      "text/latex": [
       "$\\displaystyle \\left[\\begin{matrix}1 & 0 & - T_{s} v_{k-1} \\sin{\\left(0.5 T_{s} w_{k-1} + \\theta_{k-1} \\right)}\\\\0 & 1 & T_{s} v_{k-1} \\cos{\\left(0.5 T_{s} w_{k-1} + \\theta_{k-1} \\right)}\\\\0 & 0 & 1\\end{matrix}\\right]$"
      ],
      "text/plain": [
       "Matrix([\n",
       "[1, 0, -T_s*v_k-1*sin(0.5*T_s*w_k-1 + theta_k-1)],\n",
       "[0, 1,  T_s*v_k-1*cos(0.5*T_s*w_k-1 + theta_k-1)],\n",
       "[0, 0,                                         1]])"
      ]
     },
     "execution_count": 5,
     "metadata": {},
     "output_type": "execute_result"
    }
   ],
   "source": [
    "res=diff(Fx[0],Xk1).T\n",
    "for index,item in enumerate(Fx):\n",
    "    if index==0:\n",
    "        continue\n",
    "    temp=diff(item,Xk1).T\n",
    "    res=res.col_join(temp)\n",
    "res"
   ]
  },
  {
   "cell_type": "code",
   "execution_count": 1,
   "metadata": {},
   "outputs": [
    {
     "name": "stdout",
     "output_type": "stream",
     "text": [
      "\\left[\\begin{matrix}1 & 0 & - \\frac{dt^{2} \\left(a_{t} + a_{t-1}\\right) \\sin{\\left(\\theta_{t-1} \\right)}}{2} & 0 & 0\\\\0 & 1 & \\frac{dt^{2} \\left(a_{t} + a_{t-1}\\right) \\cos{\\left(\\theta_{t-1} \\right)}}{2} & 0 & 0\\\\0 & 0 & 1 & 0 & 0\\\\0 & 0 & 0 & 1 & 0\\\\0 & 0 & 0 & 0 & 0\\end{matrix}\\right]\n"
     ]
    }
   ],
   "source": [
    "from sympy import *\n",
    "xt,yt,thetat,xt_1,yt_1,thetat_1,vt,vt_1,dt,wt,wt_1,at,at_1,b,r,l= symbols('x_t y_t theta_t x_t-1 y_t-1 theta_t-1 v_t v_t-1 dt w_t w_t-1 a_t a_t-1 b r l')\n",
    "Xt_1=Matrix([xt_1,yt_1,thetat_1,vt_1,wt_1])\n",
    "Xt=Matrix([xt,yt,thetat,vt,wt])\n",
    "\n",
    "Fimu=Matrix([xt_1+(at+at_1)*cos(thetat_1)*dt**2/2,yt_1+(at+at_1)*sin(thetat_1)*dt**2/2,thetat_1+dt*wt,vt_1+dt*at,wt])\n",
    "res_imu=diff(Fimu[0],Xt_1).T\n",
    "for index,item in enumerate(Fimu):\n",
    "    if index==0:\n",
    "        continue\n",
    "    temp=diff(item,Xt_1).T\n",
    "    res_imu=res_imu.col_join(temp)\n",
    "\n",
    "print(latex(res_imu))"
   ]
  },
  {
   "cell_type": "code",
   "execution_count": 2,
   "metadata": {},
   "outputs": [
    {
     "name": "stdout",
     "output_type": "stream",
     "text": [
      "G_encoder Jacobian matrix is :\n",
      "\\left[\\begin{matrix}0 & 0 & 0 & \\frac{1}{r} & \\frac{b}{r}\\\\0 & 0 & 0 & \\frac{1}{r} & - \\frac{b}{r}\\end{matrix}\\right]\n",
      "G_encoder Jacobian matrix is :\n",
      "\\left[\\begin{matrix}0 & 0 & 0 & -1 & 0\\\\0 & 0 & 0 & 0 & \\frac{1}{l}\\end{matrix}\\right]\n"
     ]
    }
   ],
   "source": [
    "G_encoder=Matrix([(vt+b*wt)/r,(vt-b*wt)/r])\n",
    "G_optical=Matrix([-vt,wt/l])\n",
    "\n",
    "res_encoder=diff(G_encoder[0],Xt).T\n",
    "for index,item in enumerate(G_encoder):\n",
    "    if index==0:\n",
    "        continue\n",
    "    temp=diff(item,Xt).T\n",
    "    res_encoder=res_encoder.col_join(temp)\n",
    "print(\"G_encoder Jacobian matrix is :\")\n",
    "res_encoder\n",
    "print(latex(res_encoder))\n",
    "\n",
    "res_optical=diff(G_optical[0],Xt).T\n",
    "for index,item in enumerate(G_optical):\n",
    "    if index==0:\n",
    "        continue\n",
    "    temp=diff(item,Xt).T\n",
    "    res_optical=res_optical.col_join(temp)\n",
    "print(\"G_optical Jacobian matrix is :\")\n",
    "res_optical\n",
    "print(latex(res_optical))"
   ]
  },
  {
   "cell_type": "code",
   "execution_count": 3,
   "metadata": {},
   "outputs": [
    {
     "data": {
      "text/latex": [
       "$\\displaystyle \\left[\\begin{matrix}0 & 0 & 0 & -1 & 0\\\\0 & 0 & 0 & 0 & \\frac{1}{l}\\end{matrix}\\right]$"
      ],
      "text/plain": [
       "Matrix([\n",
       "[0, 0, 0, -1,   0],\n",
       "[0, 0, 0,  0, 1/l]])"
      ]
     },
     "execution_count": 3,
     "metadata": {},
     "output_type": "execute_result"
    }
   ],
   "source": [
    "res_optical"
   ]
  },
  {
   "cell_type": "code",
   "execution_count": 4,
   "metadata": {},
   "outputs": [
    {
     "data": {
      "text/latex": [
       "$\\displaystyle \\left[\\begin{matrix}0 & 0 & 0 & \\frac{1}{r} & \\frac{b}{r}\\\\0 & 0 & 0 & \\frac{1}{r} & - \\frac{b}{r}\\end{matrix}\\right]$"
      ],
      "text/plain": [
       "Matrix([\n",
       "[0, 0, 0, 1/r,  b/r],\n",
       "[0, 0, 0, 1/r, -b/r]])"
      ]
     },
     "execution_count": 4,
     "metadata": {},
     "output_type": "execute_result"
    }
   ],
   "source": [
    "res_encoder"
   ]
  },
  {
   "cell_type": "code",
   "execution_count": null,
   "metadata": {},
   "outputs": [],
   "source": []
  }
 ],
 "metadata": {
  "kernelspec": {
   "display_name": "base",
   "language": "python",
   "name": "python3"
  },
  "language_info": {
   "codemirror_mode": {
    "name": "ipython",
    "version": 3
   },
   "file_extension": ".py",
   "mimetype": "text/x-python",
   "name": "python",
   "nbconvert_exporter": "python",
   "pygments_lexer": "ipython3",
   "version": "3.9.5 (default, Jun  4 2021, 12:28:51) \n[GCC 7.5.0]"
  },
  "orig_nbformat": 4,
  "vscode": {
   "interpreter": {
    "hash": "05405dd40f2c617f5a4e17891f55ae2cfdb55ea9402589a2fe2ccf648affaf28"
   }
  }
 },
 "nbformat": 4,
 "nbformat_minor": 2
}
