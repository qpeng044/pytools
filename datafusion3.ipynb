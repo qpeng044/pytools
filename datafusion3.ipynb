{
 "cells": [
  {
   "cell_type": "code",
   "execution_count": 3,
   "metadata": {},
   "outputs": [],
   "source": [
    "from sympy import *"
   ]
  },
  {
   "cell_type": "code",
   "execution_count": 10,
   "metadata": {},
   "outputs": [],
   "source": [
    "xk,yk,thetak,xk1,yk1,thetak1,vk1,ts,wk1 = symbols('x_k y_k theta_k x_k-1 y_k-1 theta_k-1 v_k-1 T_s w_k-1')"
   ]
  },
  {
   "cell_type": "code",
   "execution_count": 3,
   "metadata": {},
   "outputs": [],
   "source": [
    "Xk=Matrix([xk,yk,thetak])\n",
    "Xk1=Matrix([xk1,yk1,thetak1])\n",
    "UK=Matrix([vk1*ts*cos(thetak1+0.5*ts*wk1),vk1*ts*sin(thetak1+0.5*ts*wk1),ts*wk1])"
   ]
  },
  {
   "cell_type": "code",
   "execution_count": 4,
   "metadata": {},
   "outputs": [
    {
     "data": {
      "text/latex": [
       "$\\displaystyle T_{s} v_{k-1} \\cos{\\left(0.5 T_{s} w_{k-1} + \\theta_{k-1} \\right)} + x_{k-1}$"
      ],
      "text/plain": [
       "T_s*v_k-1*cos(0.5*T_s*w_k-1 + theta_k-1) + x_k-1"
      ]
     },
     "execution_count": 4,
     "metadata": {},
     "output_type": "execute_result"
    }
   ],
   "source": [
    "Fx=Xk1+UK\n",
    "Fx[0]"
   ]
  },
  {
   "cell_type": "code",
   "execution_count": 5,
   "metadata": {},
   "outputs": [
    {
     "data": {
      "text/latex": [
       "$\\displaystyle \\left[\\begin{matrix}1 & 0 & - T_{s} v_{k-1} \\sin{\\left(0.5 T_{s} w_{k-1} + \\theta_{k-1} \\right)}\\\\0 & 1 & T_{s} v_{k-1} \\cos{\\left(0.5 T_{s} w_{k-1} + \\theta_{k-1} \\right)}\\\\0 & 0 & 1\\end{matrix}\\right]$"
      ],
      "text/plain": [
       "Matrix([\n",
       "[1, 0, -T_s*v_k-1*sin(0.5*T_s*w_k-1 + theta_k-1)],\n",
       "[0, 1,  T_s*v_k-1*cos(0.5*T_s*w_k-1 + theta_k-1)],\n",
       "[0, 0,                                         1]])"
      ]
     },
     "execution_count": 5,
     "metadata": {},
     "output_type": "execute_result"
    }
   ],
   "source": [
    "res=diff(Fx[0],Xk1).T\n",
    "for index,item in enumerate(Fx):\n",
    "    if index==0:\n",
    "        continue\n",
    "    temp=diff(item,Xk1).T\n",
    "    res=res.col_join(temp)\n",
    "res"
   ]
  },
  {
   "cell_type": "code",
   "execution_count": 1,
   "metadata": {},
   "outputs": [
    {
     "name": "stdout",
     "output_type": "stream",
     "text": [
      "\\left[\\begin{matrix}1 & 0 & - \\frac{dt^{2} \\left(a_{t} + a_{t-1}\\right) \\sin{\\left(\\theta_{t-1} \\right)}}{2} & 0 & 0\\\\0 & 1 & \\frac{dt^{2} \\left(a_{t} + a_{t-1}\\right) \\cos{\\left(\\theta_{t-1} \\right)}}{2} & 0 & 0\\\\0 & 0 & 1 & 0 & 0\\\\0 & 0 & 0 & 1 & 0\\\\0 & 0 & 0 & 0 & 0\\end{matrix}\\right]\n"
     ]
    }
   ],
   "source": [
    "from sympy import *\n",
    "xt,yt,thetat,xt_1,yt_1,thetat_1,vt,vt_1,dt,wt,wt_1,at,at_1,b,r,l= symbols('x_t y_t theta_t x_t-1 y_t-1 theta_t-1 v_t v_t-1 dt w_t w_t-1 a_t a_t-1 b r l')\n",
    "Xt_1=Matrix([xt_1,yt_1,thetat_1,vt_1,wt_1])\n",
    "Xt=Matrix([xt,yt,thetat,vt,wt])\n",
    "\n",
    "Fimu=Matrix([xt_1+(at+at_1)*cos(thetat_1)*dt**2/2,yt_1+(at+at_1)*sin(thetat_1)*dt**2/2,thetat_1+dt*wt,vt_1+dt*at,wt])\n",
    "res_imu=diff(Fimu[0],Xt_1).T\n",
    "for index,item in enumerate(Fimu):\n",
    "    if index==0:\n",
    "        continue\n",
    "    temp=diff(item,Xt_1).T\n",
    "    res_imu=res_imu.col_join(temp)\n",
    "\n",
    "print(latex(res_imu))"
   ]
  },
  {
   "cell_type": "code",
   "execution_count": 2,
   "metadata": {},
   "outputs": [
    {
     "name": "stdout",
     "output_type": "stream",
     "text": [
      "G_encoder Jacobian matrix is :\n",
      "\\left[\\begin{matrix}0 & 0 & 0 & \\frac{1}{r} & \\frac{b}{r}\\\\0 & 0 & 0 & \\frac{1}{r} & - \\frac{b}{r}\\end{matrix}\\right]\n",
      "G_encoder Jacobian matrix is :\n",
      "\\left[\\begin{matrix}0 & 0 & 0 & -1 & 0\\\\0 & 0 & 0 & 0 & \\frac{1}{l}\\end{matrix}\\right]\n"
     ]
    }
   ],
   "source": [
    "G_encoder=Matrix([(vt+b*wt)/r,(vt-b*wt)/r])\n",
    "G_optical=Matrix([-vt,wt/l])\n",
    "\n",
    "res_encoder=diff(G_encoder[0],Xt).T\n",
    "for index,item in enumerate(G_encoder):\n",
    "    if index==0:\n",
    "        continue\n",
    "    temp=diff(item,Xt).T\n",
    "    res_encoder=res_encoder.col_join(temp)\n",
    "print(\"G_encoder Jacobian matrix is :\")\n",
    "res_encoder\n",
    "print(latex(res_encoder))\n",
    "\n",
    "res_optical=diff(G_optical[0],Xt).T\n",
    "for index,item in enumerate(G_optical):\n",
    "    if index==0:\n",
    "        continue\n",
    "    temp=diff(item,Xt).T\n",
    "    res_optical=res_optical.col_join(temp)\n",
    "print(\"G_optical Jacobian matrix is :\")\n",
    "res_optical\n",
    "print(latex(res_optical))"
   ]
  },
  {
   "cell_type": "code",
   "execution_count": 3,
   "metadata": {},
   "outputs": [
    {
     "data": {
      "text/latex": [
       "$\\displaystyle \\left[\\begin{matrix}0 & 0 & 0 & -1 & 0\\\\0 & 0 & 0 & 0 & \\frac{1}{l}\\end{matrix}\\right]$"
      ],
      "text/plain": [
       "Matrix([\n",
       "[0, 0, 0, -1,   0],\n",
       "[0, 0, 0,  0, 1/l]])"
      ]
     },
     "execution_count": 3,
     "metadata": {},
     "output_type": "execute_result"
    }
   ],
   "source": [
    "res_optical"
   ]
  },
  {
   "cell_type": "code",
   "execution_count": 4,
   "metadata": {},
   "outputs": [
    {
     "data": {
      "text/latex": [
       "$\\displaystyle \\left[\\begin{matrix}0 & 0 & 0 & \\frac{1}{r} & \\frac{b}{r}\\\\0 & 0 & 0 & \\frac{1}{r} & - \\frac{b}{r}\\end{matrix}\\right]$"
      ],
      "text/plain": [
       "Matrix([\n",
       "[0, 0, 0, 1/r,  b/r],\n",
       "[0, 0, 0, 1/r, -b/r]])"
      ]
     },
     "execution_count": 4,
     "metadata": {},
     "output_type": "execute_result"
    }
   ],
   "source": [
    "res_encoder"
   ]
  },
  {
   "cell_type": "code",
   "execution_count": 1,
   "metadata": {},
   "outputs": [
    {
     "data": {
      "text/latex": [
       "$\\displaystyle \\sqrt{\\left(\\triangle a t x_{t-1} + v_{t-1} \\cos{\\left(theta_{t-1} \\right)}\\right)^{2} + \\left(\\triangle a t y_{t-1} + v_{t-1} \\sin{\\left(theta_{t-1} \\right)}\\right)^{2}}$"
      ],
      "text/plain": [
       "sqrt((\\triangle*a*t*x_{t-1} + v_{t-1}*cos(theta_{t-1}))**2 + (\\triangle*a*t*y_{t-1} + v_{t-1}*sin(theta_{t-1}))**2)"
      ]
     },
     "execution_count": 1,
     "metadata": {},
     "output_type": "execute_result"
    }
   ],
   "source": []
  },
  {
   "cell_type": "code",
   "execution_count": null,
   "metadata": {},
   "outputs": [],
   "source": [
    "\n",
    "\n",
    "xk,yk,thetak,xk1,yk1,thetak1,vk1,ts,wk1 = symbols('x_k y_k theta_k x_k-1 y_k-1 theta_k-1 v_k-1 T_s w_k-1')"
   ]
  },
  {
   "cell_type": "code",
   "execution_count": 3,
   "metadata": {},
   "outputs": [],
   "source": [
    "from sympy import *\n",
    "x_t,y_t,v_t,x_t_1,v_t_1,theta_t_1,dt,theta_t,ax__t,ay__t,y_t_1,ax__t_1,ay__t_1,w_t,w_t_1=symbols(\"x_t y_t v_t x_t-1 v_t-1 theta_t-1 dt theta_t ax'_t ay'_t y_t-1 ax'_t-1 ay'_t-1 w_t w_t-1\")\n",
    "vx_t_1,vy_t_1,vx_t,vy_t,pi=symbols(\"vx_t-1 vy_t-1 vx_t vy_t pi\")\n"
   ]
  },
  {
   "cell_type": "code",
   "execution_count": 2,
   "metadata": {},
   "outputs": [],
   "source": [
    "\n",
    "\n",
    "Fx=Matrix([x_t_1+v_t_1*cos(theta_t_1)*dt+(cos(theta_t)*ax__t+sin(theta_t)*ay__t)*dt**2/2,\\\n",
    "          y_t_1+v_t_1*sin(theta_t_1)*dt+(sin(theta_t)*ax__t+cos(theta_t)*ay__t)*dt**2/2,\\\n",
    "          sqrt((v_t_1*cos(theta_t_1)+ax__t_1*dt)**2+(v_t_1*sin(theta_t_1)+ay__t_1*dt)**2),\\\n",
    "          theta_t_1+dt*w_t,w_t])\n",
    "X_t=Matrix([x_t,y_t,v_t,theta_t,w_t])\n",
    "X_t_1=Matrix([x_t_1,y_t_1,v_t_1,theta_t_1,w_t_1])"
   ]
  },
  {
   "cell_type": "code",
   "execution_count": 6,
   "metadata": {},
   "outputs": [
    {
     "data": {
      "text/latex": [
       "$\\displaystyle \\left[\\begin{matrix}0 & 0 & 0 & \\frac{dt^{2} \\left(- ax'_{t} \\sin{\\left(\\theta_{t} \\right)} + ay'_{t} \\cos{\\left(\\theta_{t} \\right)}\\right)}{2} & 0\\\\0 & 0 & 0 & \\frac{dt^{2} \\left(ax'_{t} \\cos{\\left(\\theta_{t} \\right)} - ay'_{t} \\sin{\\left(\\theta_{t} \\right)}\\right)}{2} & 0\\\\0 & 0 & 0 & 0 & 0\\\\0 & 0 & 0 & 0 & dt\\\\0 & 0 & 0 & 0 & 1\\end{matrix}\\right]$"
      ],
      "text/plain": [
       "Matrix([\n",
       "[0, 0, 0, dt**2*(-ax'_t*sin(theta_t) + ay'_t*cos(theta_t))/2,  0],\n",
       "[0, 0, 0,  dt**2*(ax'_t*cos(theta_t) - ay'_t*sin(theta_t))/2,  0],\n",
       "[0, 0, 0,                                                  0,  0],\n",
       "[0, 0, 0,                                                  0, dt],\n",
       "[0, 0, 0,                                                  0,  1]])"
      ]
     },
     "execution_count": 6,
     "metadata": {},
     "output_type": "execute_result"
    }
   ],
   "source": [
    "res=diff(Fx[0],X_t).T\n",
    "for index,item in enumerate(Fx):\n",
    "    if index==0:\n",
    "        continue\n",
    "    temp=diff(item,X_t).T\n",
    "    res=res.col_join(temp)\n",
    "res"
   ]
  },
  {
   "cell_type": "code",
   "execution_count": 7,
   "metadata": {},
   "outputs": [
    {
     "name": "stdout",
     "output_type": "stream",
     "text": [
      "\\left[\\begin{matrix}0 & 0 & 0 & \\frac{dt^{2} \\left(- ax'_{t} \\sin{\\left(\\theta_{t} \\right)} + ay'_{t} \\cos{\\left(\\theta_{t} \\right)}\\right)}{2} & 0\\\\0 & 0 & 0 & \\frac{dt^{2} \\left(ax'_{t} \\cos{\\left(\\theta_{t} \\right)} - ay'_{t} \\sin{\\left(\\theta_{t} \\right)}\\right)}{2} & 0\\\\0 & 0 & 0 & 0 & 0\\\\0 & 0 & 0 & 0 & dt\\\\0 & 0 & 0 & 0 & 1\\end{matrix}\\right]\n"
     ]
    }
   ],
   "source": [
    "print(latex(res))"
   ]
  },
  {
   "cell_type": "code",
   "execution_count": 2,
   "metadata": {},
   "outputs": [
    {
     "data": {
      "text/latex": [
       "$\\displaystyle \\left[\\begin{matrix}0 & 0 & 0 & \\frac{dt \\left(- ax^{imu}_{t} dt \\sin{\\left(\\theta_{t} \\right)} - ay^{imu}_{t} dt \\sin{\\left(\\frac{\\pi}{2} - \\theta_{t} \\right)}\\right)}{2} & 0\\\\0 & 0 & 0 & \\frac{dt \\left(ax^{imu}_{t} dt \\cos{\\left(\\theta_{t} \\right)} - ay^{imu}_{t} dt \\cos{\\left(\\frac{\\pi}{2} - \\theta_{t} \\right)}\\right)}{2} & 0\\\\0 & 0 & 0 & \\frac{\\frac{\\left(- 2 ax^{imu}_{t} dt \\sin{\\left(\\theta_{t} \\right)} - 2 ay^{imu}_{t} dt \\sin{\\left(\\frac{\\pi}{2} - \\theta_{t} \\right)}\\right) \\left(ax^{imu}_{t} dt \\cos{\\left(\\theta_{t} \\right)} - ay^{imu}_{t} dt \\cos{\\left(\\frac{\\pi}{2} - \\theta_{t} \\right)} + v_{t-1} \\cos{\\left(\\theta_{t-1} \\right)}\\right)}{2} + \\frac{\\left(2 ax^{imu}_{t} dt \\cos{\\left(\\theta_{t} \\right)} - 2 ay^{imu}_{t} dt \\cos{\\left(\\frac{\\pi}{2} - \\theta_{t} \\right)}\\right) \\left(ax^{imu}_{t} dt \\sin{\\left(\\theta_{t} \\right)} + ay^{imu}_{t} dt \\sin{\\left(\\frac{\\pi}{2} - \\theta_{t} \\right)} + v_{t-1} \\sin{\\left(\\theta_{t-1} \\right)}\\right)}{2}}{\\sqrt{\\left(ax^{imu}_{t} dt \\sin{\\left(\\theta_{t} \\right)} + ay^{imu}_{t} dt \\sin{\\left(\\frac{\\pi}{2} - \\theta_{t} \\right)} + v_{t-1} \\sin{\\left(\\theta_{t-1} \\right)}\\right)^{2} + \\left(ax^{imu}_{t} dt \\cos{\\left(\\theta_{t} \\right)} - ay^{imu}_{t} dt \\cos{\\left(\\frac{\\pi}{2} - \\theta_{t} \\right)} + v_{t-1} \\cos{\\left(\\theta_{t-1} \\right)}\\right)^{2}}} & 0\\\\0 & 0 & 0 & 0 & dt\\\\0 & 0 & 0 & 0 & 1\\end{matrix}\\right]$"
      ],
      "text/plain": [
       "Matrix([\n",
       "[0, 0, 0,                                                                                                                                                                                                                                                                                                                                                                                                                                       dt*(-ax^imu_t*dt*sin(theta_t) - ay^imu_t*dt*sin(pi/2 - theta_t))/2,  0],\n",
       "[0, 0, 0,                                                                                                                                                                                                                                                                                                                                                                                                                                        dt*(ax^imu_t*dt*cos(theta_t) - ay^imu_t*dt*cos(pi/2 - theta_t))/2,  0],\n",
       "[0, 0, 0, ((-2*ax^imu_t*dt*sin(theta_t) - 2*ay^imu_t*dt*sin(pi/2 - theta_t))*(ax^imu_t*dt*cos(theta_t) - ay^imu_t*dt*cos(pi/2 - theta_t) + v_t-1*cos(theta_t-1))/2 + (2*ax^imu_t*dt*cos(theta_t) - 2*ay^imu_t*dt*cos(pi/2 - theta_t))*(ax^imu_t*dt*sin(theta_t) + ay^imu_t*dt*sin(pi/2 - theta_t) + v_t-1*sin(theta_t-1))/2)/sqrt((ax^imu_t*dt*sin(theta_t) + ay^imu_t*dt*sin(pi/2 - theta_t) + v_t-1*sin(theta_t-1))**2 + (ax^imu_t*dt*cos(theta_t) - ay^imu_t*dt*cos(pi/2 - theta_t) + v_t-1*cos(theta_t-1))**2),  0],\n",
       "[0, 0, 0,                                                                                                                                                                                                                                                                                                                                                                                                                                                                                                        0, dt],\n",
       "[0, 0, 0,                                                                                                                                                                                                                                                                                                                                                                                                                                                                                                        0,  1]])"
      ]
     },
     "execution_count": 2,
     "metadata": {},
     "output_type": "execute_result"
    }
   ],
   "source": [
    "# 新的imu状态方程 20230629\n",
    "from sympy import *\n",
    "x_t,y_t,v_t,x_t_1,v_t_1,theta_t_1,dt,theta_t,ax__t,ay__t,y_t_1,ax__t_1,ay__t_1,w_t,w_t_1=symbols(\"x_t y_t v_t x_t-1 v_t-1 theta_t-1 dt theta_t ax^imu_t ay^imu_t y_t-1 ax^imu_t-1 ay^imu_t-1 w_t w_t-1\")\n",
    "vx_t_1,vy_t_1,vx_t,vy_t,pi=symbols(\"vx_t-1 vy_t-1 vx_t vy_t pi\")\n",
    "vx_t_1=v_t_1*cos(theta_t_1)\n",
    "vy_t_1=v_t_1*sin(theta_t_1)\n",
    "vx_t=ax__t*cos(theta_t)*dt-ay__t*cos(pi/2-theta_t)*dt+vx_t_1\n",
    "vy_t=ax__t*sin(theta_t)*dt+ay__t*sin(pi/2-theta_t)*dt+vy_t_1\n",
    "# v_t=sqrt(vx_t**2+vy_t**2)\n",
    "\n",
    "Fx=Matrix([x_t_1+(vx_t+vx_t_1)*dt/2,y_t_1+(vy_t+vy_t_1)*dt/2,sqrt(vx_t**2+vy_t**2),theta_t_1+dt*w_t,w_t])\n",
    "X_t=Matrix([x_t,y_t,v_t,theta_t,w_t])\n",
    "X_t_1=Matrix([x_t_1,y_t_1,v_t_1,theta_t_1,w_t_1])\n",
    "res=diff(Fx[0],X_t).T\n",
    "for index,item in enumerate(Fx):\n",
    "    if index==0:\n",
    "        continue\n",
    "    temp=diff(item,X_t).T\n",
    "    res=res.col_join(temp)\n",
    "res\n"
   ]
  },
  {
   "cell_type": "code",
   "execution_count": 2,
   "metadata": {},
   "outputs": [
    {
     "data": {
      "text/latex": [
       "$\\displaystyle \\left[\\begin{matrix}\\frac{\\left(x_{t} - x_{t-1}\\right) \\cos{\\left(\\frac{\\theta_{t}}{2} - \\frac{\\theta_{t-1}}{2} \\right)}}{\\sqrt{\\left(x_{t} - x_{t-1}\\right)^{2} + \\left(y_{t} - y_{t-1}\\right)^{2}}} & \\frac{\\left(y_{t} - y_{t-1}\\right) \\cos{\\left(\\frac{\\theta_{t}}{2} - \\frac{\\theta_{t-1}}{2} \\right)}}{\\sqrt{\\left(x_{t} - x_{t-1}\\right)^{2} + \\left(y_{t} - y_{t-1}\\right)^{2}}} & 0 & - \\frac{\\sqrt{\\left(x_{t} - x_{t-1}\\right)^{2} + \\left(y_{t} - y_{t-1}\\right)^{2}} \\sin{\\left(\\frac{\\theta_{t}}{2} - \\frac{\\theta_{t-1}}{2} \\right)}}{2} & 0\\\\\\frac{\\left(x_{t} - x_{t-1}\\right) \\sin{\\left(\\frac{\\theta_{t}}{2} - \\frac{\\theta_{t-1}}{2} \\right)}}{\\sqrt{\\left(x_{t} - x_{t-1}\\right)^{2} + \\left(y_{t} - y_{t-1}\\right)^{2}}} & \\frac{\\left(y_{t} - y_{t-1}\\right) \\sin{\\left(\\frac{\\theta_{t}}{2} - \\frac{\\theta_{t-1}}{2} \\right)}}{\\sqrt{\\left(x_{t} - x_{t-1}\\right)^{2} + \\left(y_{t} - y_{t-1}\\right)^{2}}} & 0 & \\frac{\\sqrt{\\left(x_{t} - x_{t-1}\\right)^{2} + \\left(y_{t} - y_{t-1}\\right)^{2}} \\cos{\\left(\\frac{\\theta_{t}}{2} - \\frac{\\theta_{t-1}}{2} \\right)}}{2} & 0\\end{matrix}\\right]$"
      ],
      "text/plain": [
       "Matrix([\n",
       "[(x_t - x_t-1)*cos(theta_t/2 - theta_t-1/2)/sqrt((x_t - x_t-1)**2 + (y_t - y_t-1)**2), (y_t - y_t-1)*cos(theta_t/2 - theta_t-1/2)/sqrt((x_t - x_t-1)**2 + (y_t - y_t-1)**2), 0, -sqrt((x_t - x_t-1)**2 + (y_t - y_t-1)**2)*sin(theta_t/2 - theta_t-1/2)/2, 0],\n",
       "[(x_t - x_t-1)*sin(theta_t/2 - theta_t-1/2)/sqrt((x_t - x_t-1)**2 + (y_t - y_t-1)**2), (y_t - y_t-1)*sin(theta_t/2 - theta_t-1/2)/sqrt((x_t - x_t-1)**2 + (y_t - y_t-1)**2), 0,  sqrt((x_t - x_t-1)**2 + (y_t - y_t-1)**2)*cos(theta_t/2 - theta_t-1/2)/2, 0]])"
      ]
     },
     "execution_count": 2,
     "metadata": {},
     "output_type": "execute_result"
    }
   ],
   "source": [
    "#光流测量方程：\n",
    "from sympy import *\n",
    "x_t,y_t,v_t,x_t_1,v_t_1,theta_t_1,dt,theta_t,ax__t,ay__t,y_t_1,ax__t_1,ay__t_1,w_t,w_t_1=symbols(\"x_t y_t v_t x_t-1 v_t-1 theta_t-1 dt theta_t ax^imu_t ay^imu_t y_t-1 ax^imu_t-1 ay^imu_t-1 w_t w_t-1\")\n",
    "vx_t_1,vy_t_1,vx_t,vy_t,pi=symbols(\"vx_t-1 vy_t-1 vx_t vy_t pi\")\n",
    "Foptical=Matrix([cos((theta_t-theta_t_1)/2)*sqrt((x_t-x_t_1)**2+(y_t-y_t_1)**2),sin((theta_t-theta_t_1)/2)*sqrt((x_t-x_t_1)**2+(y_t-y_t_1)**2)])\n",
    "X_t=Matrix([x_t,y_t,v_t,theta_t,w_t])\n",
    "res=diff(Foptical[0],X_t).T\n",
    "for index,item in enumerate(Foptical):\n",
    "    if index==0:\n",
    "        continue\n",
    "    temp=diff(item,X_t).T\n",
    "    res=res.col_join(temp)\n",
    "res"
   ]
  },
  {
   "cell_type": "code",
   "execution_count": 3,
   "metadata": {},
   "outputs": [
    {
     "name": "stdout",
     "output_type": "stream",
     "text": [
      "\\left[\\begin{matrix}\\frac{\\left(x_{t} - x_{t-1}\\right) \\cos{\\left(\\frac{\\theta_{t}}{2} - \\frac{\\theta_{t-1}}{2} \\right)}}{\\sqrt{\\left(x_{t} - x_{t-1}\\right)^{2} + \\left(y_{t} - y_{t-1}\\right)^{2}}} & \\frac{\\left(y_{t} - y_{t-1}\\right) \\cos{\\left(\\frac{\\theta_{t}}{2} - \\frac{\\theta_{t-1}}{2} \\right)}}{\\sqrt{\\left(x_{t} - x_{t-1}\\right)^{2} + \\left(y_{t} - y_{t-1}\\right)^{2}}} & 0 & - \\frac{\\sqrt{\\left(x_{t} - x_{t-1}\\right)^{2} + \\left(y_{t} - y_{t-1}\\right)^{2}} \\sin{\\left(\\frac{\\theta_{t}}{2} - \\frac{\\theta_{t-1}}{2} \\right)}}{2} & 0\\\\\\frac{\\left(x_{t} - x_{t-1}\\right) \\sin{\\left(\\frac{\\theta_{t}}{2} - \\frac{\\theta_{t-1}}{2} \\right)}}{\\sqrt{\\left(x_{t} - x_{t-1}\\right)^{2} + \\left(y_{t} - y_{t-1}\\right)^{2}}} & \\frac{\\left(y_{t} - y_{t-1}\\right) \\sin{\\left(\\frac{\\theta_{t}}{2} - \\frac{\\theta_{t-1}}{2} \\right)}}{\\sqrt{\\left(x_{t} - x_{t-1}\\right)^{2} + \\left(y_{t} - y_{t-1}\\right)^{2}}} & 0 & \\frac{\\sqrt{\\left(x_{t} - x_{t-1}\\right)^{2} + \\left(y_{t} - y_{t-1}\\right)^{2}} \\cos{\\left(\\frac{\\theta_{t}}{2} - \\frac{\\theta_{t-1}}{2} \\right)}}{2} & 0\\end{matrix}\\right]\n"
     ]
    }
   ],
   "source": [
    "print(latex(res))"
   ]
  },
  {
   "cell_type": "code",
   "execution_count": 1,
   "metadata": {},
   "outputs": [
    {
     "data": {
      "text/latex": [
       "$\\displaystyle \\left[\\begin{matrix}0 & 0 & \\frac{\\cos{\\left(\\theta_{t} \\right)}}{dt} & \\frac{\\sin{\\left(\\theta_{t} \\right)}}{dt} & - \\frac{\\left(vx_{t} - vx_{t-1}\\right) \\sin{\\left(\\theta_{t} \\right)}}{dt} + \\frac{\\left(vy_{t} - vy_{t-1}\\right) \\cos{\\left(\\theta_{t} \\right)}}{dt} & 0\\\\0 & 0 & - \\frac{\\sin{\\left(\\theta_{t} \\right)}}{dt} & \\frac{\\cos{\\left(\\theta_{t} \\right)}}{dt} & - \\frac{\\left(vx_{t} - vx_{t-1}\\right) \\cos{\\left(\\theta_{t} \\right)}}{dt} - \\frac{\\left(vy_{t} - vy_{t-1}\\right) \\sin{\\left(\\theta_{t} \\right)}}{dt} & 0\\\\0 & 0 & 0 & 0 & 0 & 1\\end{matrix}\\right]$"
      ],
      "text/plain": [
       "Matrix([\n",
       "[0, 0,  cos(theta_t)/dt, sin(theta_t)/dt, -(vx_t - vx_t-1)*sin(theta_t)/dt + (vy_t - vy_t-1)*cos(theta_t)/dt, 0],\n",
       "[0, 0, -sin(theta_t)/dt, cos(theta_t)/dt, -(vx_t - vx_t-1)*cos(theta_t)/dt - (vy_t - vy_t-1)*sin(theta_t)/dt, 0],\n",
       "[0, 0,                0,               0,                                                                  0, 1]])"
      ]
     },
     "execution_count": 1,
     "metadata": {},
     "output_type": "execute_result"
    }
   ],
   "source": [
    "#imu的测量方程：\n",
    "from sympy import *\n",
    "x_t,y_t,v_t,x_t_1,v_t_1,theta_t_1,dt,theta_t,ax__t,ay__t,y_t_1,ax__t_1,ay__t_1,w_t,w_t_1=symbols(\"x_t y_t v_t x_t-1 v_t-1 theta_t-1 dt theta_t ax^imu_t ay^imu_t y_t-1 ax^imu_t-1 ay^imu_t-1 w_t w_t-1\")\n",
    "vx_t_1,vy_t_1,vx_t,vy_t,pi=symbols(\"vx_t-1 vy_t-1 vx_t vy_t pi\")\n",
    "X_t=Matrix([x_t,y_t,vx_t,vy_t,theta_t,w_t])\n",
    "dvxt=(vx_t-vx_t_1)\n",
    "dvyt=(vy_t-vy_t_1)\n",
    "H_imu=Matrix([dvxt*cos(theta_t)/dt+dvyt*sin(theta_t)/dt,dvyt*cos(theta_t)/dt-dvxt*sin(theta_t)/dt,w_t])\n",
    "\n",
    "res=diff(H_imu[0],X_t).T\n",
    "for index,item in enumerate(H_imu):\n",
    "    if index==0:\n",
    "        continue\n",
    "    temp=diff(item,X_t).T\n",
    "    res=res.col_join(temp)\n",
    "res"
   ]
  },
  {
   "cell_type": "code",
   "execution_count": 2,
   "metadata": {},
   "outputs": [
    {
     "name": "stdout",
     "output_type": "stream",
     "text": [
      "\\left[\\begin{matrix}0 & 0 & \\frac{\\cos{\\left(\\theta_{t} \\right)}}{dt} & \\frac{\\sin{\\left(\\theta_{t} \\right)}}{dt} & - \\frac{\\left(vx_{t} - vx_{t-1}\\right) \\sin{\\left(\\theta_{t} \\right)}}{dt} + \\frac{\\left(vy_{t} - vy_{t-1}\\right) \\cos{\\left(\\theta_{t} \\right)}}{dt} & 0\\\\0 & 0 & - \\frac{\\sin{\\left(\\theta_{t} \\right)}}{dt} & \\frac{\\cos{\\left(\\theta_{t} \\right)}}{dt} & - \\frac{\\left(vx_{t} - vx_{t-1}\\right) \\cos{\\left(\\theta_{t} \\right)}}{dt} - \\frac{\\left(vy_{t} - vy_{t-1}\\right) \\sin{\\left(\\theta_{t} \\right)}}{dt} & 0\\\\0 & 0 & 0 & 0 & 0 & 1\\end{matrix}\\right]\n"
     ]
    }
   ],
   "source": [
    "print(latex(res))"
   ]
  },
  {
   "cell_type": "code",
   "execution_count": null,
   "metadata": {},
   "outputs": [],
   "source": []
  }
 ],
 "metadata": {
  "kernelspec": {
   "display_name": "base",
   "language": "python",
   "name": "python3"
  },
  "language_info": {
   "codemirror_mode": {
    "name": "ipython",
    "version": 3
   },
   "file_extension": ".py",
   "mimetype": "text/x-python",
   "name": "python",
   "nbconvert_exporter": "python",
   "pygments_lexer": "ipython3",
   "version": "3.9.5"
  },
  "orig_nbformat": 4,
  "vscode": {
   "interpreter": {
    "hash": "05405dd40f2c617f5a4e17891f55ae2cfdb55ea9402589a2fe2ccf648affaf28"
   }
  }
 },
 "nbformat": 4,
 "nbformat_minor": 2
}
